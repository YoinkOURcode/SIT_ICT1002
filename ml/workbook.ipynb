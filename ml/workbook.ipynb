{
 "cells": [
  {
   "cell_type": "code",
   "execution_count": null,
   "id": "55079723",
   "metadata": {},
   "outputs": [
    {
     "name": "stdout",
     "output_type": "stream",
     "text": [
      "[b'AAL_data.csv', b'AAPL_data.csv', b'AAP_data.csv', b'ABBV_data.csv', b'ABC_data.csv', b'ABT_data.csv', b'ACN_data.csv', b'ADBE_data.csv', b'ADI_data.csv', b'ADM_data.csv', b'ADP_data.csv', b'ADSK_data.csv', b'ADS_data.csv', b'AEE_data.csv', b'AEP_data.csv', b'AES_data.csv', b'AET_data.csv', b'AFL_data.csv', b'AGN_data.csv', b'AIG_data.csv', b'AIV_data.csv', b'AIZ_data.csv', b'AJG_data.csv', b'AKAM_data.csv', b'ALB_data.csv', b'ALGN_data.csv', b'ALK_data.csv', b'ALLE_data.csv', b'ALL_data.csv', b'ALXN_data.csv', b'AMAT_data.csv', b'AMD_data.csv', b'AME_data.csv', b'AMGN_data.csv', b'AMG_data.csv', b'AMP_data.csv', b'AMT_data.csv', b'AMZN_data.csv', b'ANDV_data.csv', b'ANSS_data.csv', b'ANTM_data.csv', b'AON_data.csv', b'AOS_data.csv', b'APA_data.csv', b'APC_data.csv', b'APD_data.csv', b'APH_data.csv', b'APTV_data.csv', b'ARE_data.csv', b'ARNC_data.csv', b'ATVI_data.csv', b'AVB_data.csv', b'AVGO_data.csv', b'AVY_data.csv', b'AWK_data.csv', b'AXP_data.csv', b'AYI_data.csv', b'AZO_data.csv', b'A_data.csv', b'BAC_data.csv', b'BAX_data.csv', b'BA_data.csv', b'BBT_data.csv', b'BBY_data.csv', b'BDX_data.csv', b'BEN_data.csv', b'BF.B_data.csv', b'BHF_data.csv', b'BHGE_data.csv', b'BIIB_data.csv', b'BK_data.csv', b'BLK_data.csv', b'BLL_data.csv', b'BMY_data.csv', b'BRK.B_data.csv', b'BSX_data.csv', b'BWA_data.csv', b'BXP_data.csv', b'CAG_data.csv', b'CAH_data.csv', b'CAT_data.csv', b'CA_data.csv', b'CBG_data.csv', b'CBOE_data.csv', b'CBS_data.csv', b'CB_data.csv', b'CCI_data.csv', b'CCL_data.csv', b'CDNS_data.csv', b'CELG_data.csv', b'CERN_data.csv', b'CFG_data.csv', b'CF_data.csv', b'CHD_data.csv', b'CHK_data.csv', b'CHRW_data.csv', b'CHTR_data.csv', b'CINF_data.csv', b'CI_data.csv', b'CLX_data.csv', b'CL_data.csv', b'CMA_data.csv', b'CMCSA_data.csv', b'CME_data.csv', b'CMG_data.csv', b'CMI_data.csv', b'CMS_data.csv', b'CNC_data.csv', b'CNP_data.csv', b'COF_data.csv', b'COG_data.csv', b'COL_data.csv', b'COO_data.csv', b'COP_data.csv', b'COST_data.csv', b'COTY_data.csv', b'CPB_data.csv', b'CRM_data.csv', b'CSCO_data.csv', b'CSRA_data.csv', b'CSX_data.csv', b'CTAS_data.csv', b'CTL_data.csv', b'CTSH_data.csv', b'CTXS_data.csv', b'CVS_data.csv', b'CVX_data.csv', b'CXO_data.csv', b'C_data.csv', b'DAL_data.csv', b'DE_data.csv', b'DFS_data.csv', b'DGX_data.csv', b'DG_data.csv', b'DHI_data.csv', b'DHR_data.csv', b'DISCA_data.csv', b'DISCK_data.csv', b'DISH_data.csv', b'DIS_data.csv', b'DLR_data.csv', b'DLTR_data.csv', b'DOV_data.csv', b'DPS_data.csv', b'DRE_data.csv', b'DRI_data.csv', b'DTE_data.csv', b'DUK_data.csv', b'DVA_data.csv', b'DVN_data.csv', b'DWDP_data.csv', b'DXC_data.csv', b'D_data.csv', b'EA_data.csv', b'EBAY_data.csv', b'ECL_data.csv', b'ED_data.csv', b'EFX_data.csv', b'EIX_data.csv', b'EL_data.csv', b'EMN_data.csv', b'EMR_data.csv', b'EOG_data.csv', b'EQIX_data.csv', b'EQR_data.csv', b'EQT_data.csv', b'ESRX_data.csv', b'ESS_data.csv', b'ES_data.csv', b'ETFC_data.csv', b'ETN_data.csv', b'ETR_data.csv', b'EVHC_data.csv', b'EW_data.csv', b'EXC_data.csv', b'EXPD_data.csv', b'EXPE_data.csv', b'EXR_data.csv', b'FAST_data.csv', b'FBHS_data.csv', b'FB_data.csv', b'FCX_data.csv', b'FDX_data.csv', b'FE_data.csv', b'FFIV_data.csv', b'FISV_data.csv', b'FIS_data.csv', b'FITB_data.csv', b'FLIR_data.csv', b'FLR_data.csv', b'FLS_data.csv', b'FL_data.csv', b'FMC_data.csv', b'FOXA_data.csv', b'FOX_data.csv', b'FRT_data.csv', b'FTI_data.csv', b'FTV_data.csv', b'F_data.csv', b'GD_data.csv', b'GE_data.csv', b'GGP_data.csv', b'GILD_data.csv', b'GIS_data.csv', b'GLW_data.csv', b'GM_data.csv', b'GOOGL_data.csv', b'GOOG_data.csv', b'GPC_data.csv', b'GPN_data.csv', b'GPS_data.csv', b'GRMN_data.csv', b'GS_data.csv', b'GT_data.csv', b'GWW_data.csv', b'HAL_data.csv', b'HAS_data.csv', b'HBAN_data.csv', b'HBI_data.csv', b'HCA_data.csv', b'HCN_data.csv', b'HCP_data.csv', b'HD_data.csv', b'HES_data.csv', b'HIG_data.csv', b'HII_data.csv', b'HLT_data.csv', b'HOG_data.csv', b'HOLX_data.csv', b'HON_data.csv', b'HPE_data.csv', b'HPQ_data.csv', b'HP_data.csv', b'HRB_data.csv', b'HRL_data.csv', b'HRS_data.csv', b'HSIC_data.csv', b'HST_data.csv', b'HSY_data.csv', b'HUM_data.csv', b'IBM_data.csv', b'ICE_data.csv', b'IDXX_data.csv', b'IFF_data.csv', b'ILMN_data.csv', b'INCY_data.csv', b'INFO_data.csv', b'INTC_data.csv', b'INTU_data.csv', b'IPG_data.csv', b'IP_data.csv', b'IQV_data.csv', b'IRM_data.csv', b'IR_data.csv', b'ISRG_data.csv', b'ITW_data.csv', b'IT_data.csv', b'IVZ_data.csv', b'JBHT_data.csv', b'JCI_data.csv', b'JEC_data.csv', b'JNJ_data.csv', b'JNPR_data.csv', b'JPM_data.csv', b'JWN_data.csv', b'KEY_data.csv', b'KHC_data.csv', b'KIM_data.csv', b'KLAC_data.csv', b'KMB_data.csv', b'KMI_data.csv', b'KMX_data.csv', b'KORS_data.csv', b'KO_data.csv', b'KR_data.csv', b'KSS_data.csv', b'KSU_data.csv', b'K_data.csv', b'LB_data.csv', b'LEG_data.csv', b'LEN_data.csv', b'LH_data.csv', b'LKQ_data.csv', b'LLL_data.csv', b'LLY_data.csv', b'LMT_data.csv', b'LNC_data.csv', b'LNT_data.csv', b'LOW_data.csv', b'LRCX_data.csv', b'LUK_data.csv', b'LUV_data.csv', b'LYB_data.csv', b'L_data.csv', b'MAA_data.csv', b'MAC_data.csv', b'MAR_data.csv', b'MAS_data.csv', b'MAT_data.csv', b'MA_data.csv', b'MCD_data.csv', b'MCHP_data.csv', b'MCK_data.csv', b'MCO_data.csv', b'MDLZ_data.csv', b'MDT_data.csv', b'MET_data.csv', b'MGM_data.csv', b'MHK_data.csv', b'MKC_data.csv', b'MLM_data.csv', b'MMC_data.csv', b'MMM_data.csv', b'MNST_data.csv', b'MON_data.csv', b'MOS_data.csv', b'MO_data.csv', b'MPC_data.csv', b'MRK_data.csv', b'MRO_data.csv', b'MSFT_data.csv', b'MSI_data.csv', b'MS_data.csv', b'MTB_data.csv', b'MTD_data.csv', b'MU_data.csv', b'MYL_data.csv', b'M_data.csv', b'NAVI_data.csv', b'NBL_data.csv', b'NCLH_data.csv', b'NDAQ_data.csv', b'NEE_data.csv', b'NEM_data.csv', b'NFLX_data.csv', b'NFX_data.csv', b'NI_data.csv', b'NKE_data.csv', b'NLSN_data.csv', b'NOC_data.csv', b'NOV_data.csv', b'NRG_data.csv', b'NSC_data.csv', b'NTAP_data.csv', b'NTRS_data.csv', b'NUE_data.csv', b'NVDA_data.csv', b'NWL_data.csv', b'NWSA_data.csv', b'NWS_data.csv', b'OKE_data.csv', b'OMC_data.csv', b'ORCL_data.csv', b'ORLY_data.csv', b'OXY_data.csv', b'O_data.csv', b'PAYX_data.csv', b'PBCT_data.csv', b'PCAR_data.csv', b'PCG_data.csv', b'PCLN_data.csv', b'PDCO_data.csv', b'PEG_data.csv', b'PEP_data.csv', b'PFE_data.csv', b'PFG_data.csv', b'PGR_data.csv', b'PG_data.csv', b'PHM_data.csv', b'PH_data.csv', b'PKG_data.csv', b'PKI_data.csv', b'PLD_data.csv', b'PM_data.csv', b'PNC_data.csv', b'PNR_data.csv', b'PNW_data.csv', b'PPG_data.csv', b'PPL_data.csv', b'PRGO_data.csv', b'PRU_data.csv', b'PSA_data.csv', b'PSX_data.csv', b'PVH_data.csv', b'PWR_data.csv', b'PXD_data.csv', b'PX_data.csv', b'PYPL_data.csv', b'QCOM_data.csv', b'QRVO_data.csv', b'RCL_data.csv', b'REGN_data.csv', b'REG_data.csv', b'RE_data.csv', b'RF_data.csv', b'RHI_data.csv', b'RHT_data.csv', b'RJF_data.csv', b'RL_data.csv', b'RMD_data.csv', b'ROK_data.csv', b'ROP_data.csv', b'ROST_data.csv', b'RRC_data.csv', b'RSG_data.csv', b'RTN_data.csv', b'SBAC_data.csv', b'SBUX_data.csv', b'SCG_data.csv', b'SCHW_data.csv', b'SEE_data.csv', b'SHW_data.csv', b'SIG_data.csv', b'SJM_data.csv', b'SLB_data.csv', b'SLG_data.csv', b'SNA_data.csv', b'SNI_data.csv', b'SNPS_data.csv', b'SO_data.csv', b'SPGI_data.csv', b'SPG_data.csv', b'SRCL_data.csv', b'SRE_data.csv', b'STI_data.csv', b'STT_data.csv', b'STX_data.csv', b'STZ_data.csv', b'SWKS_data.csv', b'SWK_data.csv', b'SYF_data.csv', b'SYK_data.csv', b'SYMC_data.csv', b'SYY_data.csv', b'TAP_data.csv', b'TDG_data.csv', b'TEL_data.csv', b'TGT_data.csv', b'TIF_data.csv', b'TJX_data.csv', b'TMK_data.csv', b'TMO_data.csv', b'TPR_data.csv', b'TRIP_data.csv', b'TROW_data.csv', b'TRV_data.csv', b'TSCO_data.csv', b'TSN_data.csv', b'TSS_data.csv', b'TWX_data.csv', b'TXN_data.csv', b'TXT_data.csv', b'T_data.csv', b'UAA_data.csv', b'UAL_data.csv', b'UA_data.csv', b'UDR_data.csv', b'UHS_data.csv', b'ULTA_data.csv', b'UNH_data.csv', b'UNM_data.csv', b'UNP_data.csv', b'UPS_data.csv', b'URI_data.csv', b'USB_data.csv', b'UTX_data.csv', b'VAR_data.csv', b'VFC_data.csv', b'VIAB_data.csv', b'VLO_data.csv', b'VMC_data.csv', b'VNO_data.csv', b'VRSK_data.csv', b'VRSN_data.csv', b'VRTX_data.csv', b'VTR_data.csv', b'VZ_data.csv', b'V_data.csv', b'WAT_data.csv', b'WBA_data.csv', b'WDC_data.csv', b'WEC_data.csv', b'WFC_data.csv', b'WHR_data.csv', b'WLTW_data.csv', b'WMB_data.csv', b'WMT_data.csv', b'WM_data.csv', b'WRK_data.csv', b'WU_data.csv', b'WYNN_data.csv', b'WYN_data.csv', b'WY_data.csv', b'XEC_data.csv', b'XEL_data.csv', b'XLNX_data.csv', b'XL_data.csv', b'XOM_data.csv', b'XRAY_data.csv', b'XRX_data.csv', b'XYL_data.csv', b'YUM_data.csv', b'ZBH_data.csv', b'ZION_data.csv', b'ZTS_data.csv']\n"
     ]
    }
   ],
   "source": [
    "import pandas as pd\n",
    "import numpy as np\n",
    "# For time stamps\n",
    "from datetime import datetime\n",
    "import os\n",
    "\n",
    "import matplotlib.pyplot as plt\n",
    "import seaborn as sns\n",
    "sns.set_style('whitegrid')\n",
    "plt.style.use(\"fivethirtyeight\")\n",
    "%matplotlib inline\n",
    "\n",
    "# The tech stocks we'll use for this analysis\n",
    "tech_list = ['AAPL', 'GOOG', 'MSFT', 'AMZN']\n",
    "\n",
    "# Directory of data folder\n",
    "directory_in_str = \"../data/\"\n",
    "\n",
    "\n",
    "    \n",
    "directories = os.listdir(os.fsencode(directory_in_str))\n",
    "company_name = [\"APPLE\", \"GOOGLE\", \"MICROSOFT\", \"AMAZON\"]\n",
    "\n",
    "print(directories)\n",
    "\n",
    "\n",
    "\n",
    "# for company, com_name in zip(company_list, company_name):\n",
    "#     company[\"company_name\"] = com_name\n",
    "    \n",
    "# df = pd.concat(company_list, axis=0)\n",
    "# df.tail(10)"
   ]
  },
  {
   "cell_type": "code",
   "execution_count": null,
   "id": "2e42c12e",
   "metadata": {},
   "outputs": [],
   "source": []
  }
 ],
 "metadata": {
  "kernelspec": {
   "display_name": "Python 3",
   "language": "python",
   "name": "python3"
  },
  "language_info": {
   "codemirror_mode": {
    "name": "ipython",
    "version": 3
   },
   "file_extension": ".py",
   "mimetype": "text/x-python",
   "name": "python",
   "nbconvert_exporter": "python",
   "pygments_lexer": "ipython3",
   "version": "3.11.4"
  }
 },
 "nbformat": 4,
 "nbformat_minor": 5
}
